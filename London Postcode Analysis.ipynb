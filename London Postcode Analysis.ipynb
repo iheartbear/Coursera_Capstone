{
 "cells": [
  {
   "cell_type": "markdown",
   "metadata": {},
   "source": [
    "# Where should I book my AirBnB in London?"
   ]
  },
  {
   "cell_type": "markdown",
   "metadata": {},
   "source": [
    "## Problem Description/Background"
   ]
  },
  {
   "cell_type": "markdown",
   "metadata": {},
   "source": [
    "I often get asked for recommendations by visiting family and friends as to what area of London they should stay in for an upcoming visit. The conversation always takes a predictable path whereby I ask what they like to do, what they want to see or eat, do they like quiet or noisy and then I make a recommendation. What I think would be super helpful is to categorize London by postcode into different types of neighborhood (e.g. quiet, trendy, lots of restaurants, etc.) and then have this list/map available for my friends, family, or just travelers in general to peruse themselves and they can then make their own informed decision."
   ]
  },
  {
   "cell_type": "markdown",
   "metadata": {},
   "source": [
    "## Data Description"
   ]
  },
  {
   "cell_type": "markdown",
   "metadata": {},
   "source": [
    "I will scrape a web page for the London postcode information, much like we did in the project analyzing Toronto, and use this in combination with the Foursquare data to categorize and build a picture of what each postcode is like in terms of venues. If the top venues in a postcode are nightclubs then it is a trendy, noisy area. If top venues are riverside cafes, it’s probably a quieter, family-friendly post code. If top venues are tourist attractions, then it might be good for people who want to sight-see."
   ]
  },
  {
   "cell_type": "code",
   "execution_count": null,
   "metadata": {},
   "outputs": [],
   "source": []
  }
 ],
 "metadata": {
  "kernelspec": {
   "display_name": "Python 3",
   "language": "python",
   "name": "python3"
  },
  "language_info": {
   "codemirror_mode": {
    "name": "ipython",
    "version": 3
   },
   "file_extension": ".py",
   "mimetype": "text/x-python",
   "name": "python",
   "nbconvert_exporter": "python",
   "pygments_lexer": "ipython3",
   "version": "3.7.4"
  }
 },
 "nbformat": 4,
 "nbformat_minor": 2
}
